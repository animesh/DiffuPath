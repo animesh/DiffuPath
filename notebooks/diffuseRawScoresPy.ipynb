{
 "cells": [
  {
   "cell_type": "markdown",
   "metadata": {},
   "source": [
    "# Compute diffusion scores in Python"
   ]
  },
  {
   "cell_type": "code",
   "execution_count": 1,
   "metadata": {},
   "outputs": [
    {
     "name": "stderr",
     "output_type": "stream",
     "text": [
      "DEBUG:root:test\n"
     ]
    }
   ],
   "source": [
    "import networkx as nx\n",
    "import numpy as np\n",
    "import logging\n",
    "import scipy as sp\n",
    "from math import pi, sqrt\n",
    "import sys\n",
    "import os \n",
    "\n",
    "logger = logging.getLogger()\n",
    "logger.setLevel(logging.DEBUG)\n",
    "logging.debug(\"test\")\n",
    "\n",
    "dir_path = os.path.dirname(os.path.realpath('__file__'))"
   ]
  },
  {
   "cell_type": "markdown",
   "metadata": {},
   "source": [
    "#### Import kernel functions from diffuPy"
   ]
  },
  {
   "cell_type": "markdown",
   "metadata": {},
   "source": [
    "The kernel functions a imported from the package. Despite this the functions implementation are in this notebook (final _imp in the function name)."
   ]
  },
  {
   "cell_type": "code",
   "execution_count": 2,
   "metadata": {},
   "outputs": [],
   "source": [
    "from diffupy.kernel import commute_time_kernel, p_step_kernel, inverse_cosine_kernel, diffusion_kernel, regularised_laplacian_kernel\n",
    "\n",
    "from diffupy.matrix import Matrix, LaplacianMatrix\n",
    "\n",
    "from diffupy.miscellaneous import get_label_list_graph"
   ]
  },
  {
   "cell_type": "markdown",
   "metadata": {},
   "source": [
    "### Import example graph"
   ]
  },
  {
   "cell_type": "code",
   "execution_count": 3,
   "metadata": {},
   "outputs": [],
   "source": [
    "G = nx.read_gml(dir_path+'/04_unit_testing/_graph.gml', label='id')"
   ]
  },
  {
   "cell_type": "markdown",
   "metadata": {},
   "source": [
    "### General functions"
   ]
  },
  {
   "cell_type": "markdown",
   "metadata": {},
   "source": [
    "#### Labels mapping"
   ]
  },
  {
   "cell_type": "code",
   "execution_count": 4,
   "metadata": {},
   "outputs": [],
   "source": [
    "def csv_labeled_matrix_to_matrix(path):\n",
    "    # Import matrix from csv file and remove headers\n",
    "    m = np.genfromtxt(path, dtype=None, delimiter=',')\n",
    "    return Matrix(np.array([[float(x) for x in a[1:]] for a in m[1:]]),os.path.basename(path).split('.csv'), m[1:,0], m[0, 1:])"
   ]
  },
  {
   "cell_type": "code",
   "execution_count": null,
   "metadata": {},
   "outputs": [],
   "source": [
    "def run_score_test(score_func, G, input_scores, test_output_scores, z = False):\n",
    "    \n",
    "    computed_output_scores = score_func(G, input_scores, z)\n",
    "\n",
    "    if isinstance(computed_output_scores, Matrix):\n",
    "        computed_output_scores = computed_output_scores.mat\n",
    "    \n",
    "    if isinstance(test_output_scores, Matrix):\n",
    "        test_output_scores = test_output_scores.mat\n",
    "    \n",
    "    logging.info(' %s  \\n %s\\n', 'Computed matrix', computed_output_scores)\n",
    "    logging.info(' %s  \\n %s\\n', 'Test matrix', test_output_scores)\n",
    "    # Assert rounded similarity (floating comma)\n",
    "    assert np.allclose(computed_output_scores, test_output_scores)\n",
    "    logging.info(' Test '+ score_func.__name__ +' passed')"
   ]
  },
  {
   "cell_type": "markdown",
   "metadata": {},
   "source": [
    "#### Helpers"
   ]
  },
  {
   "cell_type": "code",
   "execution_count": null,
   "metadata": {},
   "outputs": [],
   "source": [
    "# In which format is the input? Tell apart vector, matrix or list of matrices\n",
    "def which_format(x):\n",
    "    # if is.numeric(x) and is.null(dim(x)): return \"vector\"\n",
    "    if isinstance(x, isinstance(x[0], list)) or isinstance(x, isinstance(x[0], np.ndarray)): return \"matrix\"\n",
    "    if isinstance(x, list): return \"list\"\n",
    "    \n",
    "    raise ValueError('Non-recognised input scores format, object of class:  %s', x.__class__.__name__)"
   ]
  },
  {
   "cell_type": "markdown",
   "metadata": {},
   "source": [
    "#### Checkers"
   ]
  },
  {
   "cell_type": "code",
   "execution_count": null,
   "metadata": {},
   "outputs": [],
   "source": [
    "# TODO\n",
    "#.check_method\n",
    "#.check_metric\n",
    "\n",
    "# Check scores sanity\n",
    "def check_scores(scores):\n",
    "    #if np.equal(scores.cols_labels, any(([], None, 'Nan')):\n",
    "    if scores.cols_labels == []:\n",
    "        raise ValueError(\"Scores must be a named list but supplied list contains no names.\")\n",
    "\n",
    "    if not 'float' and 'int' in str(scores.mat.dtype):\n",
    "        raise ValueError(\"The scores in background are not numeric.\")\n",
    "        \n",
    "    for score, col_label, row_label in iter(scores):\n",
    "        if not isinstance(score, float) and not isinstance(score, int):\n",
    "            raise ValueError(\"The scores in background are not numeric\")\n",
    "        if score in ['Nan', None]:\n",
    "            raise ValueError(\"Scores input cannot contain NA. But background .\")\n",
    "        if col_label in ['Nan', None]:\n",
    "            raise ValueError(\"The scores in background must have rownames according to the scored nodes.\")\n",
    "        if row_label in ['Nan', None]:\n",
    "            raise ValueError(\"The scores in background must have colnames to differentiate score sets.\")\n",
    "            \n",
    "    std_mat = Matrix(np.std(scores.mat, axis=0), ['sd'], scores.cols_labels)\n",
    "\n",
    "    for sd, col_label, row_label in iter(std_mat):\n",
    "        if sd in ['Nan', None]:\n",
    "            raise ValueError(\"Standard deviation in background is NA in column:\" + str(col_label))\n",
    "        if sd == 0:\n",
    "            raise ValueError(\"Standard deviation in background is 0 in column:\" + str(col_label))"
   ]
  },
  {
   "cell_type": "code",
   "execution_count": null,
   "metadata": {},
   "outputs": [],
   "source": [
    "# Check graph sanity\n",
    "def check_graph(graph):\n",
    "    if graph in [None, 'NA', 'Nan']:\n",
    "        raise ValueError(\"'graph' missing\")\n",
    "\n",
    "    if not isinstance(graph, nx.Graph):\n",
    "        raise ValueError(\"'graph' must be an NetworkX graph object\")\n",
    "\n",
    "    nodes_names = get_label_list_graph(graph, 'name')\n",
    "    if nodes_names in [None, 'NA', 'Nan']:\n",
    "        raise ValueError(\"'graph' must have node names.\")\n",
    "\n",
    "    if any(nodes_names) is None:\n",
    "        raise ValueError(\"'graph' cannot have NA as node names\")\n",
    "\n",
    "    if len(np.unique(nodes_names)) != len(nodes_names):\n",
    "        raise ValueError(\"'graph' has non-unique names! Please check that the names are unique.\")\n",
    "                         \n",
    "    if nx.is_directed(graph):\n",
    "        raise Warning(\"graph' should be an undirected NetworkX graph object.\")\n",
    "\n",
    "    edge_weights = nx.get_edge_attributes(graph,'weight')\n",
    "    if edge_weights:\n",
    "        if any(edge_weights) is None:\n",
    "            raise ValueError(\"'graph' cannot contain NA edge weights, all must have weights.\")\n",
    "        if any(edge_weights) < 0:\n",
    "            raise Warning(\"'graph' should not contain negative edge weights.\")\n"
   ]
  },
  {
   "cell_type": "code",
   "execution_count": null,
   "metadata": {},
   "outputs": [],
   "source": [
    "# Check graph sanity\n",
    "def check_K(K):\n",
    "    if not isinstance(K, Matrix):\n",
    "        raise ValueError(\"'K' must be a matrix\")\n",
    "        \n",
    "    # Check numeric type.\n",
    "    if not 'float' and 'int' in str(K.mat.dtype):\n",
    "        raise ValueError(\"'K' must be a numeric matrix, but it is not numeric.\")\n",
    "        \n",
    "    n_rows = K.mat.shape[0]\n",
    "    n_cols = K.mat.shape[1]\n",
    "    if n_rows != n_cols:\n",
    "        raise ValueError(\"'K' must be a square matrix, but it has \"+str(n_rows)+\" rows and \"+str(n_cols)+\" columns.\")\n",
    "    \n",
    "    if K.cols_labels == []:\n",
    "        raise ValueError(\"'K' kernel must have row names.\")\n",
    "        \n",
    "    if K.rows_labels == []:\n",
    "        raise ValueError(\"'K' kernel must have column names.\")\n",
    "        \n",
    "    if K.rows_labels !=  K.cols_labels:\n",
    "        raise ValueError(\"'K' rownames and colnames must coincide.\")\n",
    "\n",
    "    for score, col_label, row_label in iter(K):       \n",
    "        if not isinstance(score, float) and not isinstance(score, int):\n",
    "            raise ValueError(\"'K' must be a numeric matrix, but it is not numeric.\")\n",
    "            \n",
    "        if score in ['Nan', None]:\n",
    "            raise ValueError(\"Scores input cannot contain NA. But background .\")\n",
    "        \n",
    "        if col_label in ['Nan', None] or row_label in ['Nan', None]:\n",
    "            raise ValueError(\"'K' dimnames cannot be NA.\")\n",
    "\n",
    "    if len(np.unique(K.rows_labels)) != len(K.rows_labels):\n",
    "        raise ValueError(\"'K' cannot contain duplicated row names.\")\n",
    "        \n",
    "    if len(np.unique(K.cols_labels)) != len(K.cols_labels):\n",
    "        raise ValueError(\"'K' cannot contain duplicated column names.\")"
   ]
  },
  {
   "cell_type": "markdown",
   "metadata": {},
   "source": [
    "## Diffuse scores\n",
    "\n",
    "Diffuse scores on a network Function diffuse takes a network in networkx format and an initial state to score all the nodes in the network."
   ]
  },
  {
   "cell_type": "code",
   "execution_count": null,
   "metadata": {},
   "outputs": [],
   "source": [
    "def calculate_scores(col_ind, scores, diff, const_mean, const_var):\n",
    "    col_in = scores[:, col_ind]\n",
    "    col_raw = diff[:, col_ind]\n",
    "\n",
    "    s1 = np.sum(col_in)\n",
    "    s2 = np.sum(col_in**2)\n",
    "\n",
    "    # means and vars depend on first and second moments\n",
    "    # of the input. This should be valid for non-binary\n",
    "    # inputs as well\n",
    "    score_means = const_mean*s1\n",
    "    score_vars = const_var*(len(scores)*s2 - s1**2)\n",
    "    \n",
    "    return np.subtract(col_raw, score_means)/np.sqrt(score_vars)\n",
    "\n",
    "def diffuse_raw (graph,\n",
    "    scores,\n",
    "    z = False,\n",
    "    K = None,\n",
    "    *argv):\n",
    "        \n",
    "    # sanity checks\n",
    "    check_scores(scores)\n",
    "\n",
    "    # Kernel matrix\n",
    "    if K is None:\n",
    "        check_graph(graph)\n",
    "        logging.info('Kernel not supplied. Computing regularised Laplacian kernel ...')\n",
    "        K = regularised_laplacian_kernel(graph, normalized = False)\n",
    "        logging.info('Done')\n",
    "    else:\n",
    "        check_K(K)\n",
    "        logging.info('Using supplied kernel matrix...')\n",
    "\n",
    "    # Compute scores        \n",
    "\n",
    "    # Match indices\n",
    "    scores = scores.match_rows(K)\n",
    "\n",
    "    # TODO: Sparse\n",
    "    # scores.mat <- methods::as(scores[[scores.name]], \"sparseMatrix\")\n",
    "\n",
    "    n = len(scores.mat)\n",
    "    K = K.mat\n",
    "    \n",
    "    # raw scores\n",
    "    diff = np.matmul(K[:,:n], scores.mat)\n",
    "\n",
    "    # Return base matrix if it is raw\n",
    "    # Continue if we want z-scores\n",
    "    if not z: \n",
    "        return diff\n",
    "\n",
    "    # If we want z-scores, must compute rowmeans and rowmeans2\n",
    "    row_sums = np.array([round(np.sum(row), 2) for row in K[:, :n]])\n",
    "    row_sums_2 = np.array([np.sum(row) for row in K[:, :n]**2])\n",
    "\n",
    "    # Constant terms over columns\n",
    "    const_mean = row_sums/n\n",
    "    const_var = np.subtract(n*row_sums_2, row_sums**2)/((n - 1)*(n**2))    \n",
    "    \n",
    "    return Matrix(np.transpose([np.array(calculate_scores(i, scores.mat, diff, const_mean, const_var)) for i in range(len(diff[0]))]), scores.rows_labels, scores.cols_labels) "
   ]
  },
  {
   "cell_type": "markdown",
   "metadata": {},
   "source": [
    "### Raw scores test"
   ]
  },
  {
   "cell_type": "code",
   "execution_count": null,
   "metadata": {
    "scrolled": true
   },
   "outputs": [],
   "source": [
    "run_score_test(diffuse_raw, G, Matrix.from_csv(dir_path+'/scores_test/input_scores.csv'), Matrix.from_csv(dir_path+'/scores_test/output_scores.csv'))"
   ]
  },
  {
   "cell_type": "markdown",
   "metadata": {},
   "source": [
    "### z-scores test"
   ]
  },
  {
   "cell_type": "code",
   "execution_count": null,
   "metadata": {
    "scrolled": true
   },
   "outputs": [],
   "source": [
    "run_score_test(diffuse_raw, G, Matrix.from_csv(dir_path+'/scores_test/input_scores.csv'), Matrix.from_csv(dir_path+'/scores_test/output_z_scores.csv'), z = True)"
   ]
  }
 ],
 "metadata": {
  "kernelspec": {
   "display_name": "Python 3",
   "language": "python",
   "name": "python3"
  },
  "language_info": {
   "codemirror_mode": {
    "name": "ipython",
    "version": 3
   },
   "file_extension": ".py",
   "mimetype": "text/x-python",
   "name": "python",
   "nbconvert_exporter": "python",
   "pygments_lexer": "ipython3",
   "version": "3.7.2"
  }
 },
 "nbformat": 4,
 "nbformat_minor": 2
}
