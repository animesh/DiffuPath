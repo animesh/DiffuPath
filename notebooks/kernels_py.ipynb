{
 "cells": [
  {
   "cell_type": "markdown",
   "metadata": {},
   "source": [
    "# Compute graph kernels"
   ]
  },
  {
   "cell_type": "code",
   "execution_count": 49,
   "metadata": {},
   "outputs": [
    {
     "name": "stderr",
     "output_type": "stream",
     "text": [
      "DEBUG:root:test\n"
     ]
    }
   ],
   "source": [
    "import networkx as nx\n",
    "import numpy as np\n",
    "import logging\n",
    "\n",
    "logger = logging.getLogger()\n",
    "logger.setLevel(logging.DEBUG)\n",
    "logging.debug(\"test\")\n",
    "\n",
    "import os \n",
    "dir_path = os.path.dirname(os.path.realpath('__file__'))"
   ]
  },
  {
   "cell_type": "code",
   "execution_count": 50,
   "metadata": {},
   "outputs": [],
   "source": [
    "H = nx.read_gml(dir_path+'/04_unit_testing/_graph.gml', label='id')"
   ]
  },
  {
   "cell_type": "code",
   "execution_count": 51,
   "metadata": {},
   "outputs": [],
   "source": [
    "def csv_labeled_matrix_to_nparray(path):\n",
    "    # Import matrix from csv file and remove headers\n",
    "    m = np.genfromtxt(path, delimiter=',')\n",
    "    return np.array([[x for x in a if ~np.isnan(x)] for a in m[1:]])"
   ]
  },
  {
   "cell_type": "markdown",
   "metadata": {},
   "source": [
    "## commuteTimeKernel"
   ]
  },
  {
   "cell_type": "markdown",
   "metadata": {},
   "source": [
    "Computes the conmute-time kernel, which is the expected time of going back and forth between a couple of nodes. If the network is connected, then the commute time kernel will be totally dense, therefore reflecting global properties of the network. For further details, see [Yen, 2007]. This kernel can be computed using both the unnormalised and normalised graph Laplacian."
   ]
  },
  {
   "cell_type": "code",
   "execution_count": 52,
   "metadata": {},
   "outputs": [],
   "source": [
    "def commute_time_kernel(G, normalized = False):\n",
    "    if nx.is_directed(G):\n",
    "        sys.exit('graph must be undirected')\n",
    "        \n",
    "    if not normalized:\n",
    "        L = nx.laplacian_matrix(G).toarray()\n",
    "    else:\n",
    "        L = nx.normalized_laplacian_matrix(G).toarray()\n",
    "        \n",
    "    # pseudo-inverse (moore-penrose)\n",
    "    ans = np.linalg.pinv(L)\n",
    "\n",
    "    return ans"
   ]
  },
  {
   "cell_type": "code",
   "execution_count": 58,
   "metadata": {},
   "outputs": [
    {
     "name": "stderr",
     "output_type": "stream",
     "text": [
      "INFO:root: Computed matrix  \n",
      " [[ 0.13585449  0.01349958  0.00707249 ...  0.00140383 -0.00238913\n",
      "  -0.00211733]\n",
      " [ 0.01349958  0.09948265  0.00573008 ...  0.0325679  -0.00379415\n",
      "   0.00052156]\n",
      " [ 0.00707249  0.00573008  0.05223533 ... -0.00223114  0.01331363\n",
      "  -0.0036509 ]\n",
      " ...\n",
      " [ 0.00140383  0.0325679  -0.00223114 ...  0.39279541 -0.00579927\n",
      "  -0.00742603]\n",
      " [-0.00238913 -0.00379415  0.01331363 ... -0.00579927  0.37149228\n",
      "  -0.00921487]\n",
      " [-0.00211733  0.00052156 -0.0036509  ... -0.00742603 -0.00921487\n",
      "   0.35492096]]\n",
      "\n",
      "INFO:root: Test matrix  \n",
      " [[ 0.13585449  0.01349958  0.00707249 ...  0.00140383 -0.00238913\n",
      "  -0.00211733]\n",
      " [ 0.01349958  0.09948265  0.00573008 ...  0.0325679  -0.00379415\n",
      "   0.00052156]\n",
      " [ 0.00707249  0.00573008  0.05223533 ... -0.00223114  0.01331363\n",
      "  -0.0036509 ]\n",
      " ...\n",
      " [ 0.00140383  0.0325679  -0.00223114 ...  0.39279541 -0.00579927\n",
      "  -0.00742603]\n",
      " [-0.00238913 -0.00379415  0.01331363 ... -0.00579927  0.37149228\n",
      "  -0.00921487]\n",
      " [-0.00211733  0.00052156 -0.0036509  ... -0.00742603 -0.00921487\n",
      "   0.35492096]]\n",
      "\n",
      "INFO:root:Test commute_time_kernel passed\n"
     ]
    }
   ],
   "source": [
    "def test_commute_time_kernel(G, test_matrix):\n",
    "    M = commute_time_kernel(G)\n",
    "    logging.info(' %s  \\n %s\\n', 'Computed matrix', M)\n",
    "    logging.info(' %s  \\n %s\\n', 'Test matrix', test_matrix)\n",
    "    \n",
    "    # Assert rounded similarity (floating comma)\n",
    "    assert np.allclose(M, test_matrix)\n",
    "    logging.info('Test commute_time_kernel passed')\n",
    "    \n",
    "test_commute_time_kernel(H, csv_labeled_matrix_to_nparray(dir_path+'/04_unit_testing/commuteTimeKernel.csv'))"
   ]
  },
  {
   "cell_type": "markdown",
   "metadata": {},
   "source": [
    "## diffusionKernel"
   ]
  },
  {
   "cell_type": "markdown",
   "metadata": {},
   "source": [
    "Computes the classical diffusion kernel that involves matrix exponentiation. It has a \"bandwidth\" parameter σ^2 that controls the extent of the spreading. Quoting [Smola, 2003]: K(x1,x2) can be visualized as the quantity of some substance that would accumulate at vertex x2 after a given amount of time if we injected the substance at vertex x1 and let it diffuse through the graph along the edges. This kernel can be computed using both the unnormalised and normalised graph Laplacian."
   ]
  },
  {
   "cell_type": "code",
   "execution_count": null,
   "metadata": {},
   "outputs": [],
   "source": [
    "Mt = nx.read_gml(csv_labeled_matrix_to_nparray(dir_path+'/04_unit_testing/_graph.gml'), label='id')"
   ]
  }
 ],
 "metadata": {
  "kernelspec": {
   "display_name": "Python 3",
   "language": "python",
   "name": "python3"
  },
  "language_info": {
   "codemirror_mode": {
    "name": "ipython",
    "version": 3
   },
   "file_extension": ".py",
   "mimetype": "text/x-python",
   "name": "python",
   "nbconvert_exporter": "python",
   "pygments_lexer": "ipython3",
   "version": "3.7.2"
  }
 },
 "nbformat": 4,
 "nbformat_minor": 2
}
