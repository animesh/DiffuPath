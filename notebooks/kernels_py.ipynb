{
 "cells": [
  {
   "cell_type": "markdown",
   "metadata": {},
   "source": [
    "# Compute graph kernels in Python"
   ]
  },
  {
   "cell_type": "code",
   "execution_count": 13,
   "metadata": {},
   "outputs": [
    {
     "name": "stderr",
     "output_type": "stream",
     "text": [
      "DEBUG:root:test\n"
     ]
    }
   ],
   "source": [
    "import networkx as nx\n",
    "import numpy as np\n",
    "import logging\n",
    "import scipy as sp\n",
    "\n",
    "logger = logging.getLogger()\n",
    "logger.setLevel(logging.DEBUG)\n",
    "logging.debug(\"test\")\n",
    "\n",
    "import os \n",
    "dir_path = os.path.dirname(os.path.realpath('__file__'))"
   ]
  },
  {
   "cell_type": "code",
   "execution_count": 14,
   "metadata": {},
   "outputs": [],
   "source": [
    "G = nx.read_gml(dir_path+'/04_unit_testing/_graph.gml', label='id')"
   ]
  },
  {
   "cell_type": "code",
   "execution_count": 15,
   "metadata": {},
   "outputs": [],
   "source": [
    "def csv_labeled_matrix_to_nparray(path):\n",
    "    # Import matrix from csv file and remove headers\n",
    "    m = np.genfromtxt(path, delimiter=',')\n",
    "    return np.array([[x for x in a if ~np.isnan(x)] for a in m[1:]])"
   ]
  },
  {
   "cell_type": "markdown",
   "metadata": {},
   "source": [
    "## commuteTimeKernel"
   ]
  },
  {
   "cell_type": "markdown",
   "metadata": {},
   "source": [
    "Computes the conmute-time kernel, which is the expected time of going back and forth between a couple of nodes. If the network is connected, then the commute time kernel will be totally dense, therefore reflecting global properties of the network. For further details, see [Yen, 2007]. This kernel can be computed using both the unnormalised and normalised graph Laplacian."
   ]
  },
  {
   "cell_type": "code",
   "execution_count": 16,
   "metadata": {},
   "outputs": [],
   "source": [
    "def commute_time_kernel(G, normalized = False):\n",
    "    if nx.is_directed(G):\n",
    "        sys.exit('graph must be undirected')\n",
    "        \n",
    "    if not normalized:\n",
    "        L = nx.laplacian_matrix(G).toarray()\n",
    "    else:\n",
    "        L = nx.normalized_laplacian_matrix(G).toarray()\n",
    "        \n",
    "    # pseudo-inverse (moore-penrose)\n",
    "    return np.linalg.pinv(L)"
   ]
  },
  {
   "cell_type": "code",
   "execution_count": 17,
   "metadata": {},
   "outputs": [
    {
     "name": "stderr",
     "output_type": "stream",
     "text": [
      "INFO:root: Computed matrix  \n",
      " [[ 0.13585449  0.01349958  0.00707249 ...  0.00140383 -0.00238913\n",
      "  -0.00211733]\n",
      " [ 0.01349958  0.09948265  0.00573008 ...  0.0325679  -0.00379415\n",
      "   0.00052156]\n",
      " [ 0.00707249  0.00573008  0.05223533 ... -0.00223114  0.01331363\n",
      "  -0.0036509 ]\n",
      " ...\n",
      " [ 0.00140383  0.0325679  -0.00223114 ...  0.39279541 -0.00579927\n",
      "  -0.00742603]\n",
      " [-0.00238913 -0.00379415  0.01331363 ... -0.00579927  0.37149228\n",
      "  -0.00921487]\n",
      " [-0.00211733  0.00052156 -0.0036509  ... -0.00742603 -0.00921487\n",
      "   0.35492096]]\n",
      "\n",
      "INFO:root: Test matrix  \n",
      " [[ 0.13585449  0.01349958  0.00707249 ...  0.00140383 -0.00238913\n",
      "  -0.00211733]\n",
      " [ 0.01349958  0.09948265  0.00573008 ...  0.0325679  -0.00379415\n",
      "   0.00052156]\n",
      " [ 0.00707249  0.00573008  0.05223533 ... -0.00223114  0.01331363\n",
      "  -0.0036509 ]\n",
      " ...\n",
      " [ 0.00140383  0.0325679  -0.00223114 ...  0.39279541 -0.00579927\n",
      "  -0.00742603]\n",
      " [-0.00238913 -0.00379415  0.01331363 ... -0.00579927  0.37149228\n",
      "  -0.00921487]\n",
      " [-0.00211733  0.00052156 -0.0036509  ... -0.00742603 -0.00921487\n",
      "   0.35492096]]\n",
      "\n",
      "INFO:root:Test commute_time_kernel passed\n"
     ]
    }
   ],
   "source": [
    "def test_commute_time_kernel(G, test_matrix):\n",
    "    M = commute_time_kernel(G)\n",
    "    logging.info(' %s  \\n %s\\n', 'Computed matrix', M)\n",
    "    logging.info(' %s  \\n %s\\n', 'Test matrix', test_matrix)\n",
    "    \n",
    "    # Assert rounded similarity (floating comma)\n",
    "    assert np.allclose(M, test_matrix)\n",
    "    logging.info('Test commute_time_kernel passed')\n",
    "    \n",
    "test_commute_time_kernel(G, csv_labeled_matrix_to_nparray(dir_path+'/04_unit_testing/commuteTimeKernel.csv'))"
   ]
  },
  {
   "cell_type": "markdown",
   "metadata": {},
   "source": [
    "## diffusionKernel"
   ]
  },
  {
   "cell_type": "markdown",
   "metadata": {},
   "source": [
    "Computes the classical diffusion kernel that involves matrix exponentiation. It has a \"bandwidth\" parameter σ^2 that controls the extent of the spreading. Quoting [Smola, 2003]: K(x1,x2) can be visualized as the quantity of some substance that would accumulate at vertex x2 after a given amount of time if we injected the substance at vertex x1 and let it diffuse through the graph along the edges. This kernel can be computed using both the unnormalised and normalised graph Laplacian."
   ]
  },
  {
   "cell_type": "code",
   "execution_count": 20,
   "metadata": {},
   "outputs": [
    {
     "data": {
      "text/plain": [
       "array([[6.12865235e-01, 3.29082231e-02, 2.45247668e-02, ...,\n",
       "        1.44983399e-03, 7.83151051e-04, 8.51056826e-04],\n",
       "       [3.29082231e-02, 6.19159113e-01, 2.22086964e-02, ...,\n",
       "        5.11968484e-02, 6.85685184e-04, 1.58484076e-03],\n",
       "       [2.45247668e-02, 2.22086964e-02, 6.21984101e-01, ...,\n",
       "        1.02408503e-03, 3.70359480e-02, 6.01032388e-04],\n",
       "       ...,\n",
       "       [1.44983399e-03, 5.11968484e-02, 1.02408503e-03, ...,\n",
       "        6.17974062e-01, 9.51450956e-05, 8.66444427e-05],\n",
       "       [7.83151051e-04, 6.85685184e-04, 3.70359480e-02, ...,\n",
       "        9.51450956e-05, 6.14837957e-01, 3.00128639e-05],\n",
       "       [8.51056826e-04, 1.58484076e-03, 6.01032388e-04, ...,\n",
       "        8.66444427e-05, 3.00128639e-05, 6.11799841e-01]])"
      ]
     },
     "execution_count": 20,
     "metadata": {},
     "output_type": "execute_result"
    }
   ],
   "source": [
    "def diffusion_kernel(G, sigma2 = 1, normalized = True):    \n",
    "    if nx.is_directed(G):\n",
    "        sys.exit('graph must be undirected')\n",
    "        \n",
    "    if not normalized:\n",
    "        L = nx.laplacian_matrix(G).toarray()\n",
    "    else:\n",
    "        L = nx.normalized_laplacian_matrix(G).toarray()\n",
    "    EL = -sigma2/2*L\n",
    "\n",
    "    return sp.linalg.expm(EL)"
   ]
  },
  {
   "cell_type": "code",
   "execution_count": 21,
   "metadata": {},
   "outputs": [
    {
     "name": "stderr",
     "output_type": "stream",
     "text": [
      "INFO:root: Computed matrix  \n",
      " [[6.12865235e-01 3.29082231e-02 2.45247668e-02 ... 1.44983399e-03\n",
      "  7.83151051e-04 8.51056826e-04]\n",
      " [3.29082231e-02 6.19159113e-01 2.22086964e-02 ... 5.11968484e-02\n",
      "  6.85685184e-04 1.58484076e-03]\n",
      " [2.45247668e-02 2.22086964e-02 6.21984101e-01 ... 1.02408503e-03\n",
      "  3.70359480e-02 6.01032388e-04]\n",
      " ...\n",
      " [1.44983399e-03 5.11968484e-02 1.02408503e-03 ... 6.17974062e-01\n",
      "  9.51450956e-05 8.66444427e-05]\n",
      " [7.83151051e-04 6.85685184e-04 3.70359480e-02 ... 9.51450956e-05\n",
      "  6.14837957e-01 3.00128639e-05]\n",
      " [8.51056826e-04 1.58484076e-03 6.01032388e-04 ... 8.66444427e-05\n",
      "  3.00128639e-05 6.11799841e-01]]\n",
      "\n",
      "INFO:root: Test matrix  \n",
      " [[6.12865235e-01 3.29082231e-02 2.45247668e-02 ... 1.44983399e-03\n",
      "  7.83151051e-04 8.51056826e-04]\n",
      " [3.29082231e-02 6.19159113e-01 2.22086964e-02 ... 5.11968484e-02\n",
      "  6.85685184e-04 1.58484076e-03]\n",
      " [2.45247668e-02 2.22086964e-02 6.21984101e-01 ... 1.02408503e-03\n",
      "  3.70359480e-02 6.01032388e-04]\n",
      " ...\n",
      " [1.44983399e-03 5.11968484e-02 1.02408503e-03 ... 6.17974062e-01\n",
      "  9.51450956e-05 8.66444427e-05]\n",
      " [7.83151051e-04 6.85685184e-04 3.70359480e-02 ... 9.51450956e-05\n",
      "  6.14837957e-01 3.00128639e-05]\n",
      " [8.51056826e-04 1.58484076e-03 6.01032388e-04 ... 8.66444427e-05\n",
      "  3.00128639e-05 6.11799841e-01]]\n",
      "\n",
      "INFO:root:Test diffusion_kernel passed\n"
     ]
    }
   ],
   "source": [
    "def test_diffusion_kernel(G, test_matrix):\n",
    "    M = diffusion_kernel(G)\n",
    "    logging.info(' %s  \\n %s\\n', 'Computed matrix', M)\n",
    "    logging.info(' %s  \\n %s\\n', 'Test matrix', test_matrix)\n",
    "    \n",
    "    # Assert rounded similarity (floating comma)\n",
    "    assert np.allclose(M, test_matrix)\n",
    "    logging.info('Test diffusion_kernel passed')\n",
    "    \n",
    "test_diffusion_kernel(G, csv_labeled_matrix_to_nparray(dir_path+'/04_unit_testing/diffusionKernel.csv'))"
   ]
  }
 ],
 "metadata": {
  "kernelspec": {
   "display_name": "Python 3",
   "language": "python",
   "name": "python3"
  },
  "language_info": {
   "codemirror_mode": {
    "name": "ipython",
    "version": 3
   },
   "file_extension": ".py",
   "mimetype": "text/x-python",
   "name": "python",
   "nbconvert_exporter": "python",
   "pygments_lexer": "ipython3",
   "version": "3.7.2"
  }
 },
 "nbformat": 4,
 "nbformat_minor": 2
}
