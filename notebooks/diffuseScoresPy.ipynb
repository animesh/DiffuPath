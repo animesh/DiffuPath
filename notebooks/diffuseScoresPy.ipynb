{
 "cells": [
  {
   "cell_type": "markdown",
   "metadata": {},
   "source": [
    "# Compute diffusion scores in Python"
   ]
  },
  {
   "cell_type": "code",
   "execution_count": 27,
   "metadata": {},
   "outputs": [
    {
     "name": "stderr",
     "output_type": "stream",
     "text": [
      "DEBUG:root:test\n"
     ]
    }
   ],
   "source": [
    "import networkx as nx\n",
    "import numpy as np\n",
    "import logging\n",
    "import scipy as sp\n",
    "from math import pi, sqrt\n",
    "import sys\n",
    "\n",
    "logger = logging.getLogger()\n",
    "logger.setLevel(logging.DEBUG)\n",
    "logging.debug(\"test\")\n",
    "\n",
    "import os \n",
    "dir_path = os.path.dirname(os.path.realpath('__file__'))"
   ]
  },
  {
   "cell_type": "markdown",
   "metadata": {},
   "source": [
    "#### Import kernel functions from diffuPy"
   ]
  },
  {
   "cell_type": "markdown",
   "metadata": {},
   "source": [
    "The kernel functions a imported from the package. Despite this the functions implementation are in this notebook (final _imp in the function name)."
   ]
  },
  {
   "cell_type": "code",
   "execution_count": 28,
   "metadata": {},
   "outputs": [],
   "source": [
    "from diffupy.kernel import commute_time_kernel, p_step_kernel, inverse_cosine_kernel, diffusion_kernel, regularised_laplacian_kernel\n",
    "\n",
    "from diffupy.miscellaneous import Matrix, LaplacianMatrix\n"
   ]
  },
  {
   "cell_type": "markdown",
   "metadata": {},
   "source": [
    "### Import example graph"
   ]
  },
  {
   "cell_type": "code",
   "execution_count": 29,
   "metadata": {},
   "outputs": [],
   "source": [
    "G = nx.read_gml(dir_path+'/04_unit_testing/_graph.gml', label='id')"
   ]
  },
  {
   "cell_type": "markdown",
   "metadata": {},
   "source": [
    "### General functions"
   ]
  },
  {
   "cell_type": "markdown",
   "metadata": {},
   "source": [
    "#### Labels mapping"
   ]
  },
  {
   "cell_type": "code",
   "execution_count": 30,
   "metadata": {},
   "outputs": [],
   "source": [
    "def csv_labeled_matrix_to_nparray(path):\n",
    "    # Import matrix from csv file and remove headers\n",
    "    m = np.genfromtxt(path, delimiter=',')\n",
    "    return np.array([[x for x in a if ~np.isnan(x)] for a in m[1:]])"
   ]
  },
  {
   "cell_type": "code",
   "execution_count": 31,
   "metadata": {},
   "outputs": [],
   "source": [
    "def run_score_test(score_func, G, input_scores, test_output_scores, z = False):\n",
    "    computed_output_scores = score_func(G, input_scores, z = z)\n",
    "\n",
    "    logging.info(' %s  \\n %s\\n', 'Computed matrix', computed_output_scores)\n",
    "    logging.info(' %s  \\n %s\\n', 'Test matrix', test_output_scores)\n",
    "    # Assert rounded similarity (floating comma)\n",
    "    assert np.allclose(computed_output_scores, test_output_scores)\n",
    "    logging.info(' Test '+ score_func.__name__ +' passed')"
   ]
  },
  {
   "cell_type": "markdown",
   "metadata": {},
   "source": [
    "#### Helpers"
   ]
  },
  {
   "cell_type": "code",
   "execution_count": 32,
   "metadata": {},
   "outputs": [],
   "source": [
    "# In which format is the input? Tell apart vector, matrix or list of matrices\n",
    "def which_format(x):\n",
    "    # if is.numeric(x) and is.null(dim(x)): return \"vector\"\n",
    "    if isinstance(x, isinstance(x[0], list)) or isinstance(x, isinstance(x[0], np.ndarray)): return \"matrix\"\n",
    "    if isinstance(x, list): return \"list\"\n",
    "    \n",
    "    raise ValueError('Non-recognised input scores format, object of class:  %s', x.__class__.__name__)"
   ]
  },
  {
   "cell_type": "markdown",
   "metadata": {},
   "source": [
    "#### Checks"
   ]
  },
  {
   "cell_type": "code",
   "execution_count": 33,
   "metadata": {},
   "outputs": [],
   "source": [
    "# TO-DO\n",
    "#.check_method\n",
    "#.check_metric\n",
    "\n",
    "# Labels matrix !!\n",
    "\n",
    "# def check_scores(scores):\n",
    "#     form = which_format(scores)\n",
    "#     #scores_names = names(scores)\n",
    "#     #if is.null(scores_names):\n",
    "#     #    raise ValueError(\"Scores must be a named list, but supplied list contains no names.\")\n",
    "\n",
    "#     plyr::l_ply(\n",
    "#         scores_names,\n",
    "#         function(mat_name) {\n",
    "#             mat <- scores[[mat_name]]\n",
    "\n",
    "#             if (!is.numeric(mat) & !(\"dgCMatrix\" %in% class(mat))) {\n",
    "#                 stop(\n",
    "#                     \"The scores in background \",\n",
    "#                     mat_name,\n",
    "#                     \" are not numeric!\"\n",
    "#                 )\n",
    "#             }\n",
    "#             if (any(is.na(mat))) {\n",
    "#                 stop(\n",
    "#                     \"Scores input cannot contain NA! \",\n",
    "#                     \"But background \",\n",
    "#                     mat_name,\n",
    "#                     \" does!\")\n",
    "#             }\n",
    "#             if (is.null(rownames(mat)))\n",
    "#                 stop(\n",
    "#                     \"The scores in background \",\n",
    "#                     mat_name,\n",
    "#                     \" must have rownames \",\n",
    "#                     \"according to the scored nodes!\"\n",
    "#                 )\n",
    "#             if (is.null(colnames(mat)))\n",
    "#                 stop(\n",
    "#                     \"The scores in background \",\n",
    "#                     mat_name,\n",
    "#                     \" must have colnames \",\n",
    "#                     \"to differentiate score sets!\"\n",
    "#                 )\n",
    "\n",
    "#             std <- apply(mat, 2, stats::sd)\n",
    "#             std_zero <- which(std == 0)\n",
    "#             std_na <- which(is.na(std))\n",
    "\n",
    "#             if (length(std_na))\n",
    "#                 warning(\n",
    "#                     \"Standard deviation in background \",\n",
    "#                     mat_name,\n",
    "#                     \" is NA in columns: \",\n",
    "#                     paste(std_na, collapse = \",\")\n",
    "#                 )\n",
    "#             if (length(std_zero))\n",
    "#                 warning(\n",
    "#                     \"Standard deviation in background \",\n",
    "#                     mat_name,\n",
    "#                     \" is 0 in columns: \",\n",
    "#                     paste(std_zero, collapse = \",\")\n",
    "#                 )\n",
    "#         }\n",
    "#     )\n",
    "#     invisible()\n",
    "# }"
   ]
  },
  {
   "cell_type": "markdown",
   "metadata": {},
   "source": [
    "## Diffuse scores\n",
    "\n",
    "Diffuse scores on a network Function diffuse takes a network in networkx format and an initial state to score all the nodes in the network."
   ]
  },
  {
   "cell_type": "code",
   "execution_count": 34,
   "metadata": {},
   "outputs": [],
   "source": [
    "def calculate_scores(col_ind, scores, diff, const_mean, const_var):\n",
    "    col_in = scores[:, col_ind]\n",
    "    col_raw = diff[:, col_ind]\n",
    "\n",
    "    s1 = np.sum(col_in)\n",
    "    s2 = np.sum(col_in**2)\n",
    "\n",
    "    # means and vars depend on first and second moments\n",
    "    # of the input. This should be valid for non-binary\n",
    "    # inputs as well\n",
    "    score_means = const_mean*s1\n",
    "    score_vars = const_var*(len(scores)*s2 - s1**2)\n",
    "    \n",
    "    return np.subtract(col_raw, score_means)/np.sqrt(score_vars)\n",
    "\n",
    "def diffuse_raw (graph,\n",
    "    scores,\n",
    "    z = False,\n",
    "    K = None,\n",
    "    *argv):\n",
    "    \n",
    "    # TODO\n",
    "    # sanity checks\n",
    "    # .check_scores(scores)\n",
    "\n",
    "    # Kernel matrix\n",
    "    if K is None:\n",
    "        # .check_graph(graph)\n",
    "        logging.info('Kernel not supplied. Computing regularised Laplacian kernel ...')\n",
    "        K = regularised_laplacian_kernel(graph, normalized = False)\n",
    "        logging.info('Done')\n",
    "    else:\n",
    "        # .check_K(K)\n",
    "        logging.info('Using supplied kernel matrix...')\n",
    "\n",
    "    # Compute scores        \n",
    "\n",
    "    # TODO: match indices, for now we assume indices match\n",
    "    # for i, input_scores in enumerate(scores):\n",
    "    #    for j, score in enumerate(input_scores):\n",
    "    #       id_label_mapping(i)\n",
    "    # input scores\n",
    "\n",
    "    # TODO: Sparse\n",
    "    # scores.mat <- methods::as(scores[[scores.name]], \"sparseMatrix\")\n",
    "\n",
    "    n = len(scores)\n",
    "\n",
    "    # raw scores\n",
    "    diff = np.matmul(K.mat[:,:n], scores.mat())\n",
    "\n",
    "    # Return base matrix if it is raw\n",
    "    # Continue if we want z-scores\n",
    "    if not z: \n",
    "        return diff\n",
    "\n",
    "    # If we want z-scores, must compute rowmeans and rowmeans2\n",
    "    row_sums = np.array([round(np.sum(row), 2) for row in K[:, :n]])\n",
    "    row_sums_2 = np.array([np.sum(row) for row in K[:, :n]**2])\n",
    "\n",
    "    # Constant terms over columns\n",
    "    const_mean = row_sums/n\n",
    "    const_var = np.subtract(n*row_sums_2, row_sums**2)/((n - 1)*(n**2))    \n",
    "    \n",
    "    return np.transpose([ans.append(np.array(calculate_scores(i, scores, diff, const_mean, const_var))) for i in range(len(diff[0]))])"
   ]
  },
  {
   "cell_type": "markdown",
   "metadata": {},
   "source": [
    "### Raw scores test"
   ]
  },
  {
   "cell_type": "code",
   "execution_count": 35,
   "metadata": {},
   "outputs": [
    {
     "name": "stderr",
     "output_type": "stream",
     "text": [
      "INFO:root:Kernel not supplied. Computing regularised Laplacian kernel ...\n",
      "INFO:root:Done\n"
     ]
    },
    {
     "ename": "AttributeError",
     "evalue": "'numpy.ndarray' object has no attribute 'get_mat'",
     "output_type": "error",
     "traceback": [
      "\u001b[0;31m---------------------------------------------------------------------------\u001b[0m",
      "\u001b[0;31mAttributeError\u001b[0m                            Traceback (most recent call last)",
      "\u001b[0;32m<ipython-input-35-0eedd4b4ac01>\u001b[0m in \u001b[0;36m<module>\u001b[0;34m\u001b[0m\n\u001b[0;32m----> 1\u001b[0;31m \u001b[0mrun_score_test\u001b[0m\u001b[0;34m(\u001b[0m\u001b[0mdiffuse_raw\u001b[0m\u001b[0;34m,\u001b[0m \u001b[0mG\u001b[0m\u001b[0;34m,\u001b[0m \u001b[0mcsv_labeled_matrix_to_nparray\u001b[0m\u001b[0;34m(\u001b[0m\u001b[0mdir_path\u001b[0m\u001b[0;34m+\u001b[0m\u001b[0;34m'/scores_test/input_scores.csv'\u001b[0m\u001b[0;34m)\u001b[0m\u001b[0;34m,\u001b[0m \u001b[0mcsv_labeled_matrix_to_nparray\u001b[0m\u001b[0;34m(\u001b[0m\u001b[0mdir_path\u001b[0m\u001b[0;34m+\u001b[0m\u001b[0;34m'/scores_test/output_scores.csv'\u001b[0m\u001b[0;34m)\u001b[0m\u001b[0;34m)\u001b[0m\u001b[0;34m\u001b[0m\u001b[0;34m\u001b[0m\u001b[0m\n\u001b[0m\u001b[1;32m      2\u001b[0m \u001b[0;34m\u001b[0m\u001b[0m\n",
      "\u001b[0;32m<ipython-input-31-f3088b54fcbf>\u001b[0m in \u001b[0;36mrun_score_test\u001b[0;34m(score_func, G, input_scores, test_output_scores, z)\u001b[0m\n\u001b[1;32m      1\u001b[0m \u001b[0;32mdef\u001b[0m \u001b[0mrun_score_test\u001b[0m\u001b[0;34m(\u001b[0m\u001b[0mscore_func\u001b[0m\u001b[0;34m,\u001b[0m \u001b[0mG\u001b[0m\u001b[0;34m,\u001b[0m \u001b[0minput_scores\u001b[0m\u001b[0;34m,\u001b[0m \u001b[0mtest_output_scores\u001b[0m\u001b[0;34m,\u001b[0m \u001b[0mz\u001b[0m \u001b[0;34m=\u001b[0m \u001b[0;32mFalse\u001b[0m\u001b[0;34m)\u001b[0m\u001b[0;34m:\u001b[0m\u001b[0;34m\u001b[0m\u001b[0;34m\u001b[0m\u001b[0m\n\u001b[0;32m----> 2\u001b[0;31m     \u001b[0mcomputed_output_scores\u001b[0m \u001b[0;34m=\u001b[0m \u001b[0mscore_func\u001b[0m\u001b[0;34m(\u001b[0m\u001b[0mG\u001b[0m\u001b[0;34m,\u001b[0m \u001b[0minput_scores\u001b[0m\u001b[0;34m,\u001b[0m \u001b[0mz\u001b[0m \u001b[0;34m=\u001b[0m \u001b[0mz\u001b[0m\u001b[0;34m)\u001b[0m\u001b[0;34m\u001b[0m\u001b[0;34m\u001b[0m\u001b[0m\n\u001b[0m\u001b[1;32m      3\u001b[0m \u001b[0;34m\u001b[0m\u001b[0m\n\u001b[1;32m      4\u001b[0m     \u001b[0mlogging\u001b[0m\u001b[0;34m.\u001b[0m\u001b[0minfo\u001b[0m\u001b[0;34m(\u001b[0m\u001b[0;34m' %s  \\n %s\\n'\u001b[0m\u001b[0;34m,\u001b[0m \u001b[0;34m'Computed matrix'\u001b[0m\u001b[0;34m,\u001b[0m \u001b[0mcomputed_output_scores\u001b[0m\u001b[0;34m)\u001b[0m\u001b[0;34m\u001b[0m\u001b[0;34m\u001b[0m\u001b[0m\n\u001b[1;32m      5\u001b[0m     \u001b[0mlogging\u001b[0m\u001b[0;34m.\u001b[0m\u001b[0minfo\u001b[0m\u001b[0;34m(\u001b[0m\u001b[0;34m' %s  \\n %s\\n'\u001b[0m\u001b[0;34m,\u001b[0m \u001b[0;34m'Test matrix'\u001b[0m\u001b[0;34m,\u001b[0m \u001b[0mtest_output_scores\u001b[0m\u001b[0;34m)\u001b[0m\u001b[0;34m\u001b[0m\u001b[0;34m\u001b[0m\u001b[0m\n",
      "\u001b[0;32m<ipython-input-34-5cb0532e6887>\u001b[0m in \u001b[0;36mdiffuse_raw\u001b[0;34m(graph, scores, z, K, *argv)\u001b[0m\n\u001b[1;32m     48\u001b[0m \u001b[0;34m\u001b[0m\u001b[0m\n\u001b[1;32m     49\u001b[0m     \u001b[0;31m# raw scores\u001b[0m\u001b[0;34m\u001b[0m\u001b[0;34m\u001b[0m\u001b[0;34m\u001b[0m\u001b[0m\n\u001b[0;32m---> 50\u001b[0;31m     \u001b[0mdiff\u001b[0m \u001b[0;34m=\u001b[0m \u001b[0mnp\u001b[0m\u001b[0;34m.\u001b[0m\u001b[0mmatmul\u001b[0m\u001b[0;34m(\u001b[0m\u001b[0mK\u001b[0m\u001b[0;34m.\u001b[0m\u001b[0mget_mat\u001b[0m\u001b[0;34m(\u001b[0m\u001b[0;34m)\u001b[0m\u001b[0;34m[\u001b[0m\u001b[0;34m:\u001b[0m\u001b[0;34m,\u001b[0m\u001b[0;34m:\u001b[0m\u001b[0mn\u001b[0m\u001b[0;34m]\u001b[0m\u001b[0;34m,\u001b[0m \u001b[0mscores\u001b[0m\u001b[0;34m.\u001b[0m\u001b[0mget_mat\u001b[0m\u001b[0;34m(\u001b[0m\u001b[0;34m)\u001b[0m\u001b[0;34m)\u001b[0m\u001b[0;34m\u001b[0m\u001b[0;34m\u001b[0m\u001b[0m\n\u001b[0m\u001b[1;32m     51\u001b[0m \u001b[0;34m\u001b[0m\u001b[0m\n\u001b[1;32m     52\u001b[0m     \u001b[0;31m# Return base matrix if it is raw\u001b[0m\u001b[0;34m\u001b[0m\u001b[0;34m\u001b[0m\u001b[0;34m\u001b[0m\u001b[0m\n",
      "\u001b[0;31mAttributeError\u001b[0m: 'numpy.ndarray' object has no attribute 'get_mat'"
     ]
    }
   ],
   "source": [
    "run_score_test(diffuse_raw, G, csv_labeled_matrix_to_nparray(dir_path+'/scores_test/input_scores.csv'), csv_labeled_matrix_to_nparray(dir_path+'/scores_test/output_scores.csv'))\n",
    "\n"
   ]
  },
  {
   "cell_type": "markdown",
   "metadata": {},
   "source": [
    "### z-scores test"
   ]
  },
  {
   "cell_type": "code",
   "execution_count": null,
   "metadata": {},
   "outputs": [],
   "source": [
    "run_score_test(diffuse_raw, G, csv_labeled_matrix_to_nparray(dir_path+'/scores_test/input_scores.csv'), csv_labeled_matrix_to_nparray(dir_path+'/scores_test/output_z_scores.csv'), z = True)"
   ]
  }
 ],
 "metadata": {
  "kernelspec": {
   "display_name": "Python 3",
   "language": "python",
   "name": "python3"
  },
  "language_info": {
   "codemirror_mode": {
    "name": "ipython",
    "version": 3
   },
   "file_extension": ".py",
   "mimetype": "text/x-python",
   "name": "python",
   "nbconvert_exporter": "python",
   "pygments_lexer": "ipython3",
   "version": "3.7.2"
  }
 },
 "nbformat": 4,
 "nbformat_minor": 2
}
