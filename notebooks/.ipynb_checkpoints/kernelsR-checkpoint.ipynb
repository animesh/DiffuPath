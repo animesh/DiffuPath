{
 "cells": [
  {
   "cell_type": "code",
   "execution_count": 6,
   "metadata": {},
   "outputs": [
    {
     "ename": "ERROR",
     "evalue": "Error in dirname(sys.frame(1)$ofile): a character vector argument expected\n",
     "output_type": "error",
     "traceback": [
      "Error in dirname(sys.frame(1)$ofile): a character vector argument expected\nTraceback:\n",
      "1. print(dirname(sys.frame(1)$ofile))",
      "2. dirname(sys.frame(1)$ofile)"
     ]
    }
   ],
   "source": [
    "print(dirname(sys.frame(1)$ofile))"
   ]
  },
  {
   "cell_type": "code",
   "execution_count": null,
   "metadata": {},
   "outputs": [],
   "source": [
    "read_graph(dirname(sys.frame(1)$ofile)+'/04_unit_testing/_graph.gml', format = c(\"gml\"))"
   ]
  },
  {
   "cell_type": "code",
   "execution_count": null,
   "metadata": {},
   "outputs": [],
   "source": [
    "#' @description Function \\code{commuteTimeKernel}\n",
    "#' computes the conmute-time kernel,\n",
    "#' which is the expected time of going back and forth\n",
    "#' between a couple of nodes. \n",
    "#' If the network is connected, then the commute time kernel\n",
    "#' will be totally dense, therefore reflecting global properties \n",
    "#' of the network.\n",
    "#' For further details, see [Yen, 2007].\n",
    "#' This kernel can be computed using both the unnormalised and \n",
    "#' normalised graph Laplacian.\n",
    "#' \n",
    "#' @template kernels\n",
    "#' \n",
    "#' @name kernels\n",
    "#' @rdname kernels\n",
    "#' @import MASS\n",
    "#' @import Matrix\n",
    "#' @import igraph\n",
    "#' @export\n",
    "commuteTimeKernel <- function(graph, normalized = FALSE) {\n",
    "    if (is.directed(graph)) stop(\"'graph' must be undirected\")\n",
    "    \n",
    "    L <- graph.laplacian(graph = graph, normalized = normalized) %>% as.matrix\n",
    "\n",
    "    # pseudo-inverse (moore-penrose)\n",
    "    ans <- MASS::ginv(L)\n",
    "    rownames(ans) <- colnames(ans) <- V(graph)$name\n",
    "    ans\n",
    "}"
   ]
  }
 ],
 "metadata": {
  "kernelspec": {
   "display_name": "R",
   "language": "R",
   "name": "ir"
  },
  "language_info": {
   "codemirror_mode": "r",
   "file_extension": ".r",
   "mimetype": "text/x-r-source",
   "name": "R",
   "pygments_lexer": "r",
   "version": "3.5.2"
  }
 },
 "nbformat": 4,
 "nbformat_minor": 2
}
