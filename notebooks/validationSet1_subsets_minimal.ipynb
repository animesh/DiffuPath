{
 "cells": [
  {
   "cell_type": "markdown",
   "metadata": {},
   "source": [
    "# Validation Set 1.2: diffuPy + PathMe  "
   ]
  },
  {
   "cell_type": "code",
   "execution_count": 1,
   "metadata": {},
   "outputs": [],
   "source": [
    "import os\n",
    "import itertools\n",
    "\n",
    "dir_path = os.path.dirname(os.path.realpath('__file__'))"
   ]
  },
  {
   "cell_type": "code",
   "execution_count": 2,
   "metadata": {},
   "outputs": [],
   "source": [
    "from openpyxl import load_workbook\n",
    "from collections import defaultdict\n",
    "import networkx as nx"
   ]
  },
  {
   "cell_type": "code",
   "execution_count": 3,
   "metadata": {},
   "outputs": [
    {
     "data": {
      "text/plain": [
       "'0.13.1'"
      ]
     },
     "execution_count": 3,
     "metadata": {},
     "output_type": "execute_result"
    }
   ],
   "source": [
    "import pybel\n",
    "import pybel_tools as pbt\n",
    "\n",
    "from pybel import BELGraph\n",
    "from pybel.constants import RELATION\n",
    "from pybel.dsl import Abundance, BiologicalProcess, CentralDogma, ListAbundance, Reaction\n",
    "\n",
    "pybel.get_version()"
   ]
  },
  {
   "cell_type": "code",
   "execution_count": 4,
   "metadata": {},
   "outputs": [],
   "source": [
    "from pathme.constants import REACTOME_BEL, KEGG_BEL, WIKIPATHWAYS_BEL, PATHME_DIR\n",
    "from pathme.export_utils import to_gml, get_labels_by_db_and_omic_from_pathme"
   ]
  },
  {
   "cell_type": "code",
   "execution_count": 5,
   "metadata": {},
   "outputs": [],
   "source": [
    "from diffuPy.diffuse import diffuse\n",
    "from diffuPy.matrix import Matrix, LaplacianMatrix\n",
    "from diffuPy.input_mapping import generate_categoric_input_from_labels, get_mapping, get_mapping_subsets, get_mapping_two_dim_subsets"
   ]
  },
  {
   "cell_type": "code",
   "execution_count": 6,
   "metadata": {},
   "outputs": [],
   "source": [
    "from diffuPy.validation_sets_utils import parse_set1\n",
    "from diffuPy.utils import print_dict_dimentions, get_labels_set_from_dict\n",
    "from diffuPy.views import show_heatmap"
   ]
  },
  {
   "cell_type": "code",
   "execution_count": 7,
   "metadata": {},
   "outputs": [
    {
     "name": "stdout",
     "output_type": "stream",
     "text": [
      "Importing Jupyter notebook from global_database_comparison.ipynb\n"
     ]
    }
   ],
   "source": [
    "import nbimporter\n",
    "from global_database_comparison import get_set_database, calculate_database_sets_as_dict"
   ]
  },
  {
   "cell_type": "markdown",
   "metadata": {},
   "source": [
    "## 1. Load Data Set 1: Input Scores"
   ]
  },
  {
   "cell_type": "code",
   "execution_count": 8,
   "metadata": {
    "scrolled": true
   },
   "outputs": [],
   "source": [
    "dataset1_labels_by_omics = parse_set1(os.path.join(dir_path, 'validation', 'set1.xlsx'))"
   ]
  },
  {
   "cell_type": "code",
   "execution_count": 9,
   "metadata": {
    "scrolled": true
   },
   "outputs": [
    {
     "name": "stdout",
     "output_type": "stream",
     "text": [
      "Dataset1 imported labels:\n",
      "Total number of genes: 4941  \n",
      "Total number of micrornas: 100  \n",
      "Total number of metabolite: 21  \n",
      "Total: 5062 \n"
     ]
    }
   ],
   "source": [
    "print_dict_dimentions(dataset1_labels_by_omics, 'Dataset1 imported labels:')"
   ]
  },
  {
   "cell_type": "code",
   "execution_count": 10,
   "metadata": {
    "scrolled": true
   },
   "outputs": [],
   "source": [
    "dataset1_all_labels = get_labels_set_from_dict(dataset1_labels_by_omics)"
   ]
  },
  {
   "cell_type": "markdown",
   "metadata": {},
   "source": [
    "## 2. Load Backrgound Graph Universe"
   ]
  },
  {
   "cell_type": "markdown",
   "metadata": {},
   "source": [
    "### 2.1. PathMeUniverse import"
   ]
  },
  {
   "cell_type": "markdown",
   "metadata": {},
   "source": [
    "##### No database argument in node data"
   ]
  },
  {
   "cell_type": "code",
   "execution_count": 11,
   "metadata": {},
   "outputs": [
    {
     "data": {
      "text/plain": [
       "<pybel.struct.graph.BELGraph at 0x12c9210b8>"
      ]
     },
     "execution_count": 11,
     "metadata": {},
     "output_type": "execute_result"
    }
   ],
   "source": [
    "pathme_graph_universe_no_explode_v0_1 = pybel.from_pickle(os.path.join(PATHME_DIR, 'universe', 'pathme_graph_universe_explode_v0.1.bel.pickle'))\n",
    "pathme_graph_universe_no_explode_v0_1\n"
   ]
  },
  {
   "cell_type": "code",
   "execution_count": 12,
   "metadata": {},
   "outputs": [
    {
     "name": "stdout",
     "output_type": "stream",
     "text": [
      "PathMe Universe v1.0.0\n",
      "Number of Nodes: 20768\n",
      "Number of Edges: 84945\n",
      "Network Density: 1.97E-04\n",
      "Number of Components: 11815\n",
      "Number of Warnings: 0\n"
     ]
    }
   ],
   "source": [
    "pathme_graph_universe_no_explode_v0_1.summarize()"
   ]
  },
  {
   "cell_type": "markdown",
   "metadata": {},
   "source": [
    "##### Database argument in node data"
   ]
  },
  {
   "cell_type": "code",
   "execution_count": 13,
   "metadata": {
    "scrolled": true
   },
   "outputs": [
    {
     "data": {
      "text/plain": [
       "<pybel.struct.graph.BELGraph at 0x12c9207f0>"
      ]
     },
     "execution_count": 13,
     "metadata": {},
     "output_type": "execute_result"
    }
   ],
   "source": [
    "pathme_graph_universe_no_explode = pybel.from_pickle(os.path.join(PATHME_DIR, 'universe', 'pathme_universe_bel_graph.bel.pickle'))\n",
    "pathme_graph_universe_no_explode"
   ]
  },
  {
   "cell_type": "code",
   "execution_count": 14,
   "metadata": {
    "scrolled": true
   },
   "outputs": [
    {
     "name": "stdout",
     "output_type": "stream",
     "text": [
      "PathMe Universe v1.0.0\n",
      "Number of Nodes: 16153\n",
      "Number of Edges: 17725\n",
      "Network Density: 6.79E-05\n",
      "Number of Components: 11886\n",
      "Number of Warnings: 0\n"
     ]
    }
   ],
   "source": [
    "pathme_graph_universe_no_explode.summarize()"
   ]
  },
  {
   "cell_type": "markdown",
   "metadata": {},
   "source": [
    "##### Export to gml"
   ]
  },
  {
   "cell_type": "code",
   "execution_count": 15,
   "metadata": {},
   "outputs": [],
   "source": [
    "to_gml(pathme_graph_universe_no_explode, os.path.join(PATHME_DIR, 'pathme_graph_universe_no_explode.gml'))"
   ]
  },
  {
   "cell_type": "code",
   "execution_count": 16,
   "metadata": {},
   "outputs": [],
   "source": [
    "g = nx.read_gml(os.path.join(PATHME_DIR, 'pathme_graph_universe_no_explode.gml'))"
   ]
  },
  {
   "cell_type": "code",
   "execution_count": 17,
   "metadata": {},
   "outputs": [
    {
     "data": {
      "text/plain": [
       "'Name: \\nType: MultiDiGraph\\nNumber of nodes: 14389\\nNumber of edges: 17725\\nAverage in degree:   1.2318\\nAverage out degree:   1.2318'"
      ]
     },
     "execution_count": 17,
     "metadata": {},
     "output_type": "execute_result"
    }
   ],
   "source": [
    "nx.info(g)"
   ]
  },
  {
   "cell_type": "markdown",
   "metadata": {},
   "source": [
    "##### Check isolates / Unconnected nodes"
   ]
  },
  {
   "cell_type": "code",
   "execution_count": 18,
   "metadata": {
    "scrolled": true
   },
   "outputs": [
    {
     "name": "stdout",
     "output_type": "stream",
     "text": [
      "9862\n"
     ]
    }
   ],
   "source": [
    "isolates = list(nx.isolates(g))\n",
    "\n",
    "#import json\n",
    "#with open(os.path.join(PATHME_DIR, 'isolates.json'), 'w') as outfile:\n",
    "#    d = json.dump(isolates, outfile)\n",
    "\n",
    "print(len(isolates))\n",
    "#list(nx.isolates(pathme_graph_universe_no_explode))"
   ]
  },
  {
   "cell_type": "markdown",
   "metadata": {},
   "source": [
    "### 2.1. Get labels subsets by entity type (omic) and database"
   ]
  },
  {
   "cell_type": "markdown",
   "metadata": {},
   "source": [
    "##### PathMe package subsets"
   ]
  },
  {
   "cell_type": "code",
   "execution_count": 19,
   "metadata": {},
   "outputs": [],
   "source": [
    "def get_labels_by_db_and_omic_from_pathme(databases):\n",
    "    db_entites = defaultdict(dict)\n",
    "    entites_db = defaultdict(lambda: defaultdict(set))\n",
    "    \n",
    "    for db in databases:\n",
    "        genes, mirna, metabolites, bps = get_set_database(db)\n",
    "        db_entites[db] = {'genes': genes, 'mirna': mirna, 'metabolites': metabolites, 'bps': bps}\n",
    "        \n",
    "        for entity_type, entities in db_entites[db].items():\n",
    "            entites_db[entity_type][db] = entities\n",
    "            \n",
    "    return db_entites, entites_db"
   ]
  },
  {
   "cell_type": "code",
   "execution_count": 20,
   "metadata": {},
   "outputs": [
    {
     "name": "stdout",
     "output_type": "stream",
     "text": [
      "Entities in PathMe package :\n",
      "Total number of reactome: genes(6328), mirna(11), metabolites(2559), bps(2101),  \n",
      "Total number of kegg: genes(2086), mirna(0), metabolites(572), bps(147),  \n",
      "Total number of wikipathways: genes(3016), mirna(83), metabolites(453), bps(107),  \n",
      "Total: 17463 \n"
     ]
    }
   ],
   "source": [
    "bg_labels_from_pathme_by_db_and_omic, bg_labels_from_pathme_by_omic_and_db = get_labels_by_db_and_omic_from_pathme(['reactome', 'kegg', 'wikipathways'])\n",
    "\n",
    "print_dict_dimentions(bg_labels_from_pathme_by_db_and_omic, 'Entities in PathMe package :')\n",
    "\n"
   ]
  },
  {
   "cell_type": "markdown",
   "metadata": {},
   "source": [
    "#####  PathMeUniverse Graph Subsets"
   ]
  },
  {
   "cell_type": "code",
   "execution_count": 21,
   "metadata": {
    "scrolled": true
   },
   "outputs": [],
   "source": [
    "def get_labels_by_db_and_omic_from_graph(graph):\n",
    "    \n",
    "    db_subsets_pmu = defaultdict(set)\n",
    "    db_entites_pmu = defaultdict(dict)\n",
    "\n",
    "    #entity_type_map = {'Gene':'genes', 'mirna_nodes':'mirna', 'Abundance':'metabolites', 'BiologicalProcess':'bps'}\n",
    "\n",
    "    for node, data in graph.nodes(data=True):\n",
    "        for database in data['database']:\n",
    "            db_subsets_pmu[database].add(node)\n",
    "\n",
    "    for database, nodes in db_subsets_pmu.items():\n",
    "        db_entites_pmu[database] = calculate_database_sets_as_dict(nodes, database)\n",
    "        \n",
    "    return db_entites_pmu, db_subsets_pmu"
   ]
  },
  {
   "cell_type": "code",
   "execution_count": 22,
   "metadata": {
    "scrolled": true
   },
   "outputs": [
    {
     "name": "stdout",
     "output_type": "stream",
     "text": [
      "Entities in PathMeUniverse :\n",
      "Total number of kegg: gene_nodes(2086), mirna_nodes(0), metabolite_nodes(572), bp_nodes(147),  \n",
      "Total number of reactome: gene_nodes(5401), mirna_nodes(11), metabolite_nodes(2547), bp_nodes(2101),  \n",
      "Total number of wikipathways: gene_nodes(2577), mirna_nodes(83), metabolite_nodes(453), bp_nodes(107),  \n",
      "Total: 16085 \n"
     ]
    }
   ],
   "source": [
    "bg_labels_from_pathmeuniverse_by_db_and_omic, bg_labels_from_pathmeuniverse_by_omic_and_db =  get_labels_by_db_and_omic_from_graph(pathme_graph_universe_no_explode)\n",
    "\n",
    "print_dict_dimentions(bg_labels_from_pathmeuniverse_by_db_and_omic, 'Entities in PathMeUniverse :')\n"
   ]
  },
  {
   "cell_type": "markdown",
   "metadata": {},
   "source": [
    "###  Subgraphs "
   ]
  },
  {
   "cell_type": "code",
   "execution_count": 23,
   "metadata": {
    "scrolled": true
   },
   "outputs": [],
   "source": [
    "# TODO\n",
    "# def get_subgraphs_by_entity(graph: BELGraph) -> dict:\n",
    "#     entities_types = ['genes', 'mirna', 'metabolites', 'bps']\n",
    "#     subgraphs = {}\n",
    "    \n",
    "#     for entities_type in entities_types:\n",
    "#         subgraphs[entities_type] = pbt.selection.get_subgraph_by_node_filter(graph, function=entities_type, value=f'PathME {entities_type}' )\n",
    "\n",
    "#     return subgraphs\n",
    "\n",
    "# get_subgraphs_by_entity(pathme_graph_universe_no_explode)\n",
    "\n",
    "# TODO\n",
    "#def get_subgraphs_by_resource(graph: BELGraph) -> None:"
   ]
  },
  {
   "cell_type": "markdown",
   "metadata": {},
   "source": [
    "### Background  Matrix"
   ]
  },
  {
   "cell_type": "code",
   "execution_count": 24,
   "metadata": {},
   "outputs": [
    {
     "data": {
      "text/plain": [
       "20768"
      ]
     },
     "execution_count": 24,
     "metadata": {},
     "output_type": "execute_result"
    }
   ],
   "source": [
    "len(list(pathme_graph_universe_no_explode_v0_1.nodes))"
   ]
  },
  {
   "cell_type": "code",
   "execution_count": 25,
   "metadata": {
    "scrolled": true
   },
   "outputs": [
    {
     "name": "stderr",
     "output_type": "stream",
     "text": [
      "/Users/jmarinllao/Documents/CREB/diffuPy/src/diffuPy/miscellaneous.py:19: UserWarning: Graph must be undirected, so it is converted to undirected.\n",
      "  warnings.warn('Graph must be undirected, so it is converted to undirected.')\n",
      "Node name nor id not labeled. bp(KEGG:\"path:map04688\")\n",
      "Node name nor id not labeled. bp(KEGG:\"path:map4670\")\n",
      "Node name nor id not labeled. bp(KEGG:\"path:map00517\")\n",
      "Node name nor id not labeled. bp(KEGG:\"path:map09020\")\n",
      "Columns labels are assigned to rows since duplicate labels is true.\n"
     ]
    }
   ],
   "source": [
    "background_mat = LaplacianMatrix(pathme_graph_universe_no_explode_v0_1)"
   ]
  },
  {
   "cell_type": "markdown",
   "metadata": {},
   "source": [
    "### Row labels"
   ]
  },
  {
   "cell_type": "code",
   "execution_count": 26,
   "metadata": {},
   "outputs": [],
   "source": [
    "background_labels = set(background_mat.rows_labels)"
   ]
  },
  {
   "cell_type": "markdown",
   "metadata": {},
   "source": [
    "## 3. Dataset label mapping to PathMeEntities"
   ]
  },
  {
   "cell_type": "markdown",
   "metadata": {},
   "source": [
    "### General mapping"
   ]
  },
  {
   "cell_type": "code",
   "execution_count": 27,
   "metadata": {},
   "outputs": [
    {
     "name": "stdout",
     "output_type": "stream",
     "text": [
      "Global mapping:  (2588) 51.12603713947057%\n"
     ]
    }
   ],
   "source": [
    "all_labels_mapping = get_mapping(dataset1_all_labels, background_labels, mirnas=dataset1_labels_by_omics, title = 'Global mapping: ', print_percentage = True)\n"
   ]
  },
  {
   "cell_type": "markdown",
   "metadata": {},
   "source": [
    "### Mapping by subsets"
   ]
  },
  {
   "cell_type": "markdown",
   "metadata": {},
   "source": [
    "#### Mapping by entity type/omic"
   ]
  },
  {
   "cell_type": "code",
   "execution_count": 28,
   "metadata": {
    "scrolled": true
   },
   "outputs": [
    {
     "name": "stdout",
     "output_type": "stream",
     "text": [
      "Mapping by entity type/omic:\n",
      "genes (2555) 51.710180125480676%\n",
      "micrornas (17) 17.0%\n",
      "metabolite (16) 76.19047619047619%\n",
      "Total (2588) 51.12603713947057% \n",
      "\n"
     ]
    }
   ],
   "source": [
    "mapping_by_entity, _ = get_mapping_subsets(dataset1_labels_by_omics, background_labels, 'entity type/omic', submapping=all_labels_mapping)\n"
   ]
  },
  {
   "cell_type": "markdown",
   "metadata": {},
   "source": [
    "#### Mapping by database"
   ]
  },
  {
   "cell_type": "code",
   "execution_count": 29,
   "metadata": {},
   "outputs": [
    {
     "name": "stdout",
     "output_type": "stream",
     "text": [
      "Mapping by database:\n",
      "reactome (1365) 26.965626234689843%\n",
      "kegg (692) 13.670485973923348%\n",
      "wikipathways (948) 18.727775582773607%\n",
      "Total (3005) 59.3638877913868% \n",
      "\n"
     ]
    }
   ],
   "source": [
    "background_entites_by_db = {db : set(itertools.chain.from_iterable(entities.values())) for db, entities in bg_labels_from_pathme_by_db_and_omic.items()}\n",
    "mapping_by_db, _ = get_mapping_subsets(background_entites_by_db, dataset1_all_labels, 'database', percentage_reference_labels = True, submapping=all_labels_mapping)\n"
   ]
  },
  {
   "cell_type": "markdown",
   "metadata": {},
   "source": [
    "#### Mapping by entity type and database"
   ]
  },
  {
   "cell_type": "code",
   "execution_count": 30,
   "metadata": {},
   "outputs": [
    {
     "name": "stdout",
     "output_type": "stream",
     "text": [
      "Mapping by Kegg:\n",
      "gene_nodes (689) 13.611220861319637%\n",
      "mirna_nodes (0) 0%\n",
      "metabolite_nodes (3) 0.05926511260371395%\n",
      "bp_nodes (0) 0.0%\n",
      "Total (692) 13.670485973923348% \n",
      "\n",
      "Mapping by Reactome:\n",
      "gene_nodes (1321) 26.09640458316871%\n",
      "mirna_nodes (0) 0.0%\n",
      "metabolite_nodes (9) 0.17779533781114185%\n",
      "bp_nodes (0) 0.0%\n",
      "Total (1330) 26.27419992097985% \n",
      "\n",
      "Mapping by Wikipathways:\n",
      "gene_nodes (762) 15.053338601343341%\n",
      "mirna_nodes (0) 0.0%\n",
      "metabolite_nodes (13) 0.2568154879494271%\n",
      "bp_nodes (0) 0.0%\n",
      "Total (775) 15.310154089292768% \n",
      "\n"
     ]
    }
   ],
   "source": [
    "mapping_by_database_and_entity = get_mapping_two_dim_subsets(bg_labels_from_pathmeuniverse_by_db_and_omic, dataset1_all_labels, all_labels_mapping)\n",
    "\n"
   ]
  },
  {
   "cell_type": "markdown",
   "metadata": {},
   "source": [
    "### Mapping descriptive view"
   ]
  },
  {
   "cell_type": "code",
   "execution_count": 31,
   "metadata": {},
   "outputs": [
    {
     "ename": "AttributeError",
     "evalue": "'tuple' object has no attribute 'items'",
     "output_type": "error",
     "traceback": [
      "\u001b[0;31m---------------------------------------------------------------------------\u001b[0m",
      "\u001b[0;31mAttributeError\u001b[0m                            Traceback (most recent call last)",
      "\u001b[0;32m<ipython-input-31-861cb0faafd0>\u001b[0m in \u001b[0;36m<module>\u001b[0;34m\u001b[0m\n\u001b[1;32m      6\u001b[0m     \u001b[0mdb_percentage\u001b[0m \u001b[0;34m=\u001b[0m \u001b[0;34m[\u001b[0m\u001b[0;34m]\u001b[0m\u001b[0;34m\u001b[0m\u001b[0;34m\u001b[0m\u001b[0m\n\u001b[1;32m      7\u001b[0m \u001b[0;34m\u001b[0m\u001b[0m\n\u001b[0;32m----> 8\u001b[0;31m     \u001b[0;32mfor\u001b[0m \u001b[0mentity_type\u001b[0m\u001b[0;34m,\u001b[0m \u001b[0mentities_tupple\u001b[0m \u001b[0;32min\u001b[0m \u001b[0mentities_by_type\u001b[0m\u001b[0;34m.\u001b[0m\u001b[0mitems\u001b[0m\u001b[0;34m(\u001b[0m\u001b[0;34m)\u001b[0m\u001b[0;34m:\u001b[0m\u001b[0;34m\u001b[0m\u001b[0;34m\u001b[0m\u001b[0m\n\u001b[0m\u001b[1;32m      9\u001b[0m         \u001b[0mdb_count\u001b[0m\u001b[0;34m.\u001b[0m\u001b[0mappend\u001b[0m\u001b[0;34m(\u001b[0m\u001b[0mlen\u001b[0m\u001b[0;34m(\u001b[0m\u001b[0mentities_tupple\u001b[0m\u001b[0;34m[\u001b[0m\u001b[0;36m0\u001b[0m\u001b[0;34m]\u001b[0m\u001b[0;34m)\u001b[0m\u001b[0;34m)\u001b[0m\u001b[0;34m\u001b[0m\u001b[0;34m\u001b[0m\u001b[0m\n\u001b[1;32m     10\u001b[0m         \u001b[0mdb_percentage\u001b[0m\u001b[0;34m.\u001b[0m\u001b[0mappend\u001b[0m\u001b[0;34m(\u001b[0m\u001b[0mentities_tupple\u001b[0m\u001b[0;34m[\u001b[0m\u001b[0;36m1\u001b[0m\u001b[0;34m]\u001b[0m\u001b[0;34m)\u001b[0m\u001b[0;34m\u001b[0m\u001b[0;34m\u001b[0m\u001b[0m\n",
      "\u001b[0;31mAttributeError\u001b[0m: 'tuple' object has no attribute 'items'"
     ]
    }
   ],
   "source": [
    "all_count = []\n",
    "all_percentage = []\n",
    "\n",
    "for db_name, entities_by_type in mapping_by_database_and_entity.items():\n",
    "    db_count = []\n",
    "    db_percentage = []\n",
    "\n",
    "    for entity_type, entities_tupple in entities_by_type.items():\n",
    "        db_count.append(len(entities_tupple[0]))\n",
    "        db_percentage.append(entities_tupple[1])\n",
    "        \n",
    "    all_count.append(db_count)\n",
    "    all_percentage.append(db_percentage)"
   ]
  },
  {
   "cell_type": "code",
   "execution_count": null,
   "metadata": {},
   "outputs": [],
   "source": [
    "databases = mapping_by_database_and_entity.keys()\n",
    "entity_types = mapping_by_database_and_entity['kegg'].keys()\n",
    "\n",
    "entity_number = np.array(all_percentage)\n",
    "entity_count = np.array(all_count)"
   ]
  },
  {
   "cell_type": "code",
   "execution_count": null,
   "metadata": {},
   "outputs": [],
   "source": [
    "databases = mapping_by_database_and_entity.keys()\n",
    "entity_types = mapping_by_database_and_entity['kegg'].keys()\n",
    "\n",
    "entity_number = np.array(all_percentage)\n",
    "entity_count = np.array(all_count)"
   ]
  },
  {
   "cell_type": "code",
   "execution_count": null,
   "metadata": {},
   "outputs": [],
   "source": [
    "show_heatmap(entity_number, databases, entity_types)"
   ]
  },
  {
   "cell_type": "markdown",
   "metadata": {},
   "source": [
    "#### Input vector/matrix construction"
   ]
  },
  {
   "cell_type": "code",
   "execution_count": null,
   "metadata": {},
   "outputs": [],
   "source": [
    "input_mats_by_entity_type = {entity_type: generate_categoric_input(all_labels_mapping, ['Dataset 1']) for entity_type, map_value in mapping_by_entity.items()}"
   ]
  },
  {
   "cell_type": "markdown",
   "metadata": {},
   "source": [
    "#### Mapping by resource/database"
   ]
  },
  {
   "cell_type": "code",
   "execution_count": null,
   "metadata": {},
   "outputs": [],
   "source": [
    "# TODO: Check further.\n",
    "# def get_mapping_by_entity_type(dataset_entites_dict, background_entites_dict):\n",
    "#     mapping = {}\n",
    "\n",
    "#     background_entities_by_type = {entity_type: set(itertools.chain.from_iterable(v.values())) for entity_type, v in entites_db.items()}\n",
    "    \n",
    "#     print(len(list(itertools.chain.from_iterable(background_entities_by_type.values()))))\n",
    "#     mapping = defaultdict(set)\n",
    "#     for type_name, background_entites in background_entities_by_type.items():\n",
    "#         mapping[type_name] = get_mapping(dataset_entites_dict[type_name], entites)\n",
    "\n",
    "#    for type_name, entites in dataset_entites_dict.items():\n",
    "#        mapping[type_name] = get_mapping(entites, background_labels)\n",
    "#        print(type_name)\n",
    "#        print(len(mapping[type_name]))\n",
    "#    return mapping"
   ]
  },
  {
   "cell_type": "code",
   "execution_count": null,
   "metadata": {
    "scrolled": false
   },
   "outputs": [],
   "source": [
    "#mapping_by_entity = get_mapping_by_entity_type(dataset1_omics_labels, background_labels)"
   ]
  },
  {
   "cell_type": "markdown",
   "metadata": {},
   "source": [
    "#### Input vector/matrix construction"
   ]
  },
  {
   "cell_type": "code",
   "execution_count": null,
   "metadata": {
    "scrolled": true
   },
   "outputs": [],
   "source": [
    "input_mat = generate_categoric_input_from_labels(all_labels_mapping, ['Dataset 1'], background_mat)"
   ]
  },
  {
   "cell_type": "markdown",
   "metadata": {},
   "source": [
    "## 4. Score Diffusion with diffuPy: Dataset as input + PathMe as background graph"
   ]
  },
  {
   "cell_type": "markdown",
   "metadata": {},
   "source": [
    "### Input elements: Dataset input + Background matrix"
   ]
  },
  {
   "cell_type": "code",
   "execution_count": null,
   "metadata": {},
   "outputs": [],
   "source": [
    "len(input_mat.mat)"
   ]
  },
  {
   "cell_type": "code",
   "execution_count": null,
   "metadata": {},
   "outputs": [],
   "source": [
    "len(background_mat.mat)"
   ]
  },
  {
   "cell_type": "code",
   "execution_count": null,
   "metadata": {},
   "outputs": [],
   "source": [
    "import time\n",
    "import copy"
   ]
  },
  {
   "cell_type": "code",
   "execution_count": null,
   "metadata": {},
   "outputs": [],
   "source": [
    "input_mat_raw = copy.copy(input_mat)\n",
    "background_mat_raw = copy.copy(background_mat)\n",
    "\n",
    "input_mat_z = copy.copy(input_mat)\n",
    "background_mat_z = copy.copy(background_mat)"
   ]
  },
  {
   "cell_type": "markdown",
   "metadata": {},
   "source": [
    "### Compute diffusion scores"
   ]
  },
  {
   "cell_type": "code",
   "execution_count": null,
   "metadata": {},
   "outputs": [],
   "source": [
    "print(len(input_mat_raw.mat))\n",
    "print(len(input_mat_raw.rows_labels))"
   ]
  },
  {
   "cell_type": "markdown",
   "metadata": {},
   "source": [
    "#### Raw scores"
   ]
  },
  {
   "cell_type": "code",
   "execution_count": null,
   "metadata": {
    "scrolled": true
   },
   "outputs": [],
   "source": [
    "then = time.time()\n",
    "raw_scores = diffuse(input_mat_raw, 'ml', K = background_mat_raw)\n",
    "now = time.time()\n",
    "print(\"It took: \", now-then, \" seconds\")"
   ]
  },
  {
   "cell_type": "code",
   "execution_count": null,
   "metadata": {
    "scrolled": true
   },
   "outputs": [],
   "source": [
    "print(raw_scores)"
   ]
  },
  {
   "cell_type": "markdown",
   "metadata": {},
   "source": [
    "###### By entity"
   ]
  },
  {
   "cell_type": "code",
   "execution_count": null,
   "metadata": {},
   "outputs": [],
   "source": [
    "mapping_by_entity"
   ]
  },
  {
   "cell_type": "markdown",
   "metadata": {},
   "source": [
    "#### Normalized z-scores"
   ]
  },
  {
   "cell_type": "code",
   "execution_count": null,
   "metadata": {},
   "outputs": [],
   "source": [
    "then = time.time()\n",
    "z_scores = diffuse(input_mat_z, 'ml', K = background_mat_z, z = True)\n",
    "now = time.time()\n",
    "print(\"It took: \", now-then, \" seconds\")"
   ]
  },
  {
   "cell_type": "code",
   "execution_count": null,
   "metadata": {},
   "outputs": [],
   "source": [
    "print(z_scores)"
   ]
  }
 ],
 "metadata": {
  "kernelspec": {
   "display_name": "Python 3",
   "language": "python",
   "name": "python3"
  },
  "language_info": {
   "codemirror_mode": {
    "name": "ipython",
    "version": 3
   },
   "file_extension": ".py",
   "mimetype": "text/x-python",
   "name": "python",
   "nbconvert_exporter": "python",
   "pygments_lexer": "ipython3",
   "version": "3.7.3"
  }
 },
 "nbformat": 4,
 "nbformat_minor": 2
}
